{
 "cells": [
  {
   "cell_type": "code",
   "execution_count": 4,
   "id": "a38eb7ae-3f15-492a-8054-328f803c0a0b",
   "metadata": {
    "tags": []
   },
   "outputs": [],
   "source": [
    "import os\n",
    "import cv2\n",
    "import imghdr\n",
    "import numpy as np\n",
    "from PIL import Image\n",
    "from pathlib import Path\n",
    "from matplotlib import pyplot as plt\n",
    "\n",
    "import torch\n",
    "import torchvision\n",
    "from torch import nn"
   ]
  },
  {
   "cell_type": "markdown",
   "id": "9d440c30-f54c-42de-b9bb-32b4b2d21f48",
   "metadata": {
    "jp-MarkdownHeadingCollapsed": true,
    "tags": []
   },
   "source": [
    "# Reading, cleaning and processing data"
   ]
  },
  {
   "cell_type": "markdown",
   "id": "1cb83c8a-a234-45c3-971a-931bf56093fc",
   "metadata": {
    "tags": []
   },
   "source": [
    "### 1. Clean the dataset"
   ]
  },
  {
   "cell_type": "markdown",
   "id": "8f9e8ef7-f62c-48da-8650-fe74ada14b9f",
   "metadata": {},
   "source": [
    "Define the directory of the data and remove any images with different extensions than the ones specified"
   ]
  },
  {
   "cell_type": "code",
   "execution_count": 18,
   "id": "b912fc91-7cac-48d1-8f48-cfd393600708",
   "metadata": {
    "tags": []
   },
   "outputs": [],
   "source": [
    "DATA_DIR = 'data'\n",
    "IMG_EXT = ['png', 'jpg', 'jpeg', 'bmp']"
   ]
  },
  {
   "cell_type": "code",
   "execution_count": 19,
   "id": "990ed909-7446-4c54-90e2-aec5cb8ce2ce",
   "metadata": {
    "tags": []
   },
   "outputs": [],
   "source": [
    "def clean_images(data_dir : str, extensions : list):\n",
    "    '''\n",
    "        Looks for subfolders (which should be the classes to classify)\n",
    "        of data_dir and removes the images which have \n",
    "        other extensions than the ones specified.\n",
    "    '''\n",
    "    for img_class in os.listdir(data_dir):                            # List every img class in data_dir\n",
    "        for image in os.listdir(os.path.join(data_dir, img_class)):   # For every class, list the images\n",
    "            image_path = os.path.join(data_dir, img_class, image)     # Get the path of the image\n",
    "            try:\n",
    "                img = cv2.imread(image_path)                          # Read the img with opencv - unnecessary?\n",
    "                tip = imghdr.what(image_path)                         # Get the extension of the image\n",
    "                if tip not in extensions:                             \n",
    "                    os.remove(image_path)                             # Remove img if it has an unwanted extension\n",
    "            except Exception as e:\n",
    "                print(f'Issue with {image_path}')                     # Print a msg if there's an error with any img"
   ]
  },
  {
   "cell_type": "code",
   "execution_count": 36,
   "id": "84f430fb-b7f2-48da-8a7a-ee1e5a52cd82",
   "metadata": {
    "tags": []
   },
   "outputs": [],
   "source": [
    "clean_images(DATA_DIR, IMG_EXT)"
   ]
  },
  {
   "cell_type": "markdown",
   "id": "9170f7fe-243c-441a-b321-87811afb90a7",
   "metadata": {},
   "source": [
    "### 2. Read and transform the data"
   ]
  },
  {
   "cell_type": "markdown",
   "id": "04fcdf10-3049-45b5-b03e-c66b67194785",
   "metadata": {},
   "source": [
    "The images must be resized to have the same resolution and must be a PyTorch tensor.\n",
    "\n",
    "PyTorch has a really handy way of implementing these transformations through `torchvision.transforms`.\n",
    "\n",
    "* `torchvision.transforms.Compose` creates a list of transformations that will be applied sequentially.\n",
    "* `torchvision.transforms.Resize((255, 255))` resizes the data to the specified size.\n",
    "* `torchvision.transforms.ToTensor()` converts the data into a torch.Tensor."
   ]
  },
  {
   "cell_type": "code",
   "execution_count": 20,
   "id": "88b96a7d-0248-43e7-8b3a-3b382a478e9a",
   "metadata": {
    "tags": []
   },
   "outputs": [],
   "source": [
    "transform = torchvision.transforms.Compose([torchvision.transforms.Resize((255, 255)),\n",
    "                                            torchvision.transforms.ToTensor()])"
   ]
  },
  {
   "cell_type": "markdown",
   "id": "09012132-b881-4fcf-8518-e1b1c482d716",
   "metadata": {},
   "source": [
    "Now through `torchvision.datasets.ImageFolder` read the directory of the data.\n",
    "\n",
    "Note that the directory data must have subfolders like 'meme', 'family', 'dinner' that will be treated as\n",
    "the classes for image classification.\n",
    "\n",
    "Through the same method, the transformations can be applied by providing a value to the `transform` parameter."
   ]
  },
  {
   "cell_type": "code",
   "execution_count": 63,
   "id": "b6d31291-7cfa-4757-8768-7aeb9b66078d",
   "metadata": {},
   "outputs": [],
   "source": [
    "data = torchvision.datasets.ImageFolder(DATA_DIR, transform=transform)"
   ]
  },
  {
   "cell_type": "markdown",
   "id": "03982efa-56c6-482a-a8c5-0142283faf90",
   "metadata": {},
   "source": [
    "The classes and their corresponding label can be seen with `class_to_idx`. Remember that this is not an array or Tensor, just a container."
   ]
  },
  {
   "cell_type": "code",
   "execution_count": 64,
   "id": "d01ace44-8afd-4aa2-a004-63641ca3016e",
   "metadata": {
    "tags": []
   },
   "outputs": [
    {
     "data": {
      "text/plain": [
       "{'family': 0, 'memes': 1}"
      ]
     },
     "execution_count": 64,
     "metadata": {},
     "output_type": "execute_result"
    }
   ],
   "source": [
    "data.class_to_idx"
   ]
  },
  {
   "cell_type": "markdown",
   "id": "db9e839d-b340-44c4-ad93-a4085d2d3f7e",
   "metadata": {},
   "source": [
    "The image samples can be accessed through `data.samples` and their respective labels with `data.targets`."
   ]
  },
  {
   "cell_type": "markdown",
   "id": "d2828d71-be53-4f48-9407-fbe4b9e08767",
   "metadata": {},
   "source": [
    "### 3. Create the data loaders"
   ]
  },
  {
   "cell_type": "markdown",
   "id": "4075c129-8f87-4198-bef1-73d466c871b3",
   "metadata": {},
   "source": [
    "For better training, it is useful to separate the data in  multiple batches and shuffle the samples so that each batch has images from both classes.\n",
    "\n",
    "A `DataLoader` in PyTorch isn't a list or a dataset that contains all the batches. Instead, it loads eatch sample (or batch) one at a time into memory. Basically, it can be treated as a generator.\n",
    "\n",
    "Creating a `DataLoader` is easy. Use `torch.utils.data.DataLoader` and specify the dataset (in this case is the images loaded in `data`). At the same time, specify `batch_size` and `shuffle` so that PyTorch may automatically split the data and randomly shuffle it.\n",
    "\n",
    "To get the next entry manually from `dataloader` one must call `next(iter(dataloader))`.\n"
   ]
  },
  {
   "cell_type": "code",
   "execution_count": 65,
   "id": "9d060db7-db47-4287-9cfb-168986b22715",
   "metadata": {
    "tags": []
   },
   "outputs": [],
   "source": [
    "dataloader = torch.utils.data.DataLoader(dataset=data,   # The dataset\n",
    "                                         batch_size=23,  # Each batch will have 23 elements\n",
    "                                         shuffle=True)   # Shuffle the data"
   ]
  },
  {
   "cell_type": "markdown",
   "id": "f821bca7-0bf4-4cc0-93e0-daa0cd134f81",
   "metadata": {},
   "source": [
    "`batch_size` is 23 because there are 230 images for each class, therefore 460 samples in total. Just so that every batch has the same number of entries, I decided to use a number so that `batch_size % number` is 0. So, there will be 20 batches (460 / 23)."
   ]
  },
  {
   "cell_type": "code",
   "execution_count": 70,
   "id": "f1b35008-8758-485b-8581-559179e28ff8",
   "metadata": {
    "tags": []
   },
   "outputs": [
    {
     "data": {
      "text/plain": [
       "20"
      ]
     },
     "execution_count": 70,
     "metadata": {},
     "output_type": "execute_result"
    }
   ],
   "source": [
    "len(dataloader) # Number of batches"
   ]
  },
  {
   "cell_type": "markdown",
   "id": "4416c96a-a27c-404f-89ec-d96debab0121",
   "metadata": {},
   "source": [
    "### 4. Split the data into train, test and validation sets"
   ]
  },
  {
   "cell_type": "markdown",
   "id": "f1e11b8a-bfe9-45fc-aa25-f5e7145cb6c4",
   "metadata": {},
   "source": [
    "Select a manual seed just so that the results can be reproducible."
   ]
  },
  {
   "cell_type": "code",
   "execution_count": 71,
   "id": "3541ec9a-7c17-4e3b-b4db-1f40f72fd80d",
   "metadata": {
    "tags": []
   },
   "outputs": [],
   "source": [
    "gen1 = torch.Generator().manual_seed(69) "
   ]
  },
  {
   "cell_type": "markdown",
   "id": "4a1e69ce-2dc4-4622-87ca-061b0be3361d",
   "metadata": {},
   "source": [
    "Really easy to split the data when using a `DataLoader`. Just use `torch.utils.data.random_split`, specify a loader, the percentage of the original data that each different set will represent and optionally a generator.\n",
    "\n",
    "Note that `[0.7, 0.15, 0.15]` sums up to 1, then the first set will be 70% of `dataloader`, and the other two sets will split the remaining 30% of `dataloader` between them, so 15% each."
   ]
  },
  {
   "cell_type": "code",
   "execution_count": 72,
   "id": "1006ca7b-a1e2-443f-9328-e4abb11a32ba",
   "metadata": {
    "tags": []
   },
   "outputs": [],
   "source": [
    "train_set, test_set, val_set = torch.utils.data.random_split(dataloader, [0.7, 0.15, 0.15], generator=gen1)"
   ]
  },
  {
   "cell_type": "markdown",
   "id": "9d16ddc3-8b9c-470e-ad24-7459fb26e0cc",
   "metadata": {},
   "source": [
    "Remember there are 20 batches in this case. The sum of each set's length must add to 20."
   ]
  },
  {
   "cell_type": "code",
   "execution_count": 74,
   "id": "48edcd7f-9a4e-47e9-a927-73cfbb13965c",
   "metadata": {
    "tags": []
   },
   "outputs": [
    {
     "name": "stdout",
     "output_type": "stream",
     "text": [
      "14\n",
      "3\n",
      "3\n"
     ]
    }
   ],
   "source": [
    "print(len(train_set))\n",
    "print(len(test_set))\n",
    "print(len(val_set))"
   ]
  },
  {
   "cell_type": "markdown",
   "id": "b21a5a62-cba4-444f-8087-b2cdaad66e24",
   "metadata": {},
   "source": [
    "### 5. IMPORTANT NOTE ABOUT THE GENERATED SETS"
   ]
  },
  {
   "cell_type": "markdown",
   "id": "321c5f25-7d4b-4f0a-9298-1755215f54ad",
   "metadata": {},
   "source": [
    "Each set contains *BOTH* the data and the labels. So `train_set` contains the X_train and the y_train in *BATCHES*, the same applies for the test_set and val_set.\n",
    "\n",
    "To access actual data, one must iterate through `set.dataset`. This is because `set.dataset` returns a DataLoader generator, but `set` has a type of Subset, which is not iterable nor indexable.\n",
    "\n",
    "Also, when iterating `set.dataset` each element that it returns is a tuple in which the first element is the data and the second one are the labels for each sample in data for that batch. Just unwrap them like `x_batch, y_batch`."
   ]
  },
  {
   "cell_type": "code",
   "execution_count": 78,
   "id": "cfb91721-4274-4c2a-9ffc-efff2fed3c0f",
   "metadata": {
    "tags": []
   },
   "outputs": [
    {
     "data": {
      "text/plain": [
       "torch.utils.data.dataset.Subset"
      ]
     },
     "execution_count": 78,
     "metadata": {},
     "output_type": "execute_result"
    }
   ],
   "source": [
    "type(train_set)"
   ]
  },
  {
   "cell_type": "code",
   "execution_count": 80,
   "id": "341329c4-6ce2-43c0-bac3-258f320fafbe",
   "metadata": {
    "tags": []
   },
   "outputs": [
    {
     "data": {
      "text/plain": [
       "torch.utils.data.dataloader.DataLoader"
      ]
     },
     "execution_count": 80,
     "metadata": {},
     "output_type": "execute_result"
    }
   ],
   "source": [
    "type(train_set.dataset)"
   ]
  },
  {
   "cell_type": "markdown",
   "id": "25df9022-02c5-4049-822b-0391ef3d13f1",
   "metadata": {
    "jp-MarkdownHeadingCollapsed": true,
    "tags": []
   },
   "source": [
    "# The Deep Learning Model"
   ]
  },
  {
   "cell_type": "markdown",
   "id": "f7f1497b-8bf3-4f6f-af18-b8f5192d1d12",
   "metadata": {},
   "source": [
    "### 1. The architecture"
   ]
  },
  {
   "cell_type": "markdown",
   "id": "60c30cff-4c34-42fb-8fbd-01d5394bad19",
   "metadata": {},
   "source": [
    "The model will consist of 3 convolutional blocks, 1 flatten layer and 2 fully connected linear layers.\n",
    "\n",
    "In turn, each convolutional block is a sequential model containing:\n",
    "* The convolutional layer.\n",
    "* The activation layer, ReLU in this case.\n",
    "* The pooling layer, MaxPooling2D in this case."
   ]
  },
  {
   "cell_type": "markdown",
   "id": "cd804b48-dbc6-49e0-9397-71bb1de4667a",
   "metadata": {},
   "source": [
    "#### 1.1. The convolution blocks"
   ]
  },
  {
   "cell_type": "markdown",
   "id": "e3d7612b-7387-4434-b60a-b88aaeac5acc",
   "metadata": {},
   "source": [
    "*REMEMBER*: Each convolutional layer has a kernel of size 3x3. This means that each time the data goes through these layers it will come out with 2 pixel less because the kernel won't fit completely at the edges of the image. Then, 1 pixel is ignored on the left, right, the top and bottom."
   ]
  },
  {
   "cell_type": "markdown",
   "id": "aa90828c-8298-4a7a-bf4b-d7b998ff6a5f",
   "metadata": {},
   "source": [
    "##### 1.1.1 First convolutional block\n",
    "-> input with shape `[23, 3, 255, 255]`.\n",
    "\n",
    "Remember that the data will come with a size of `[23, 3, 255, 255]` since each batch has 23 elements, each image has 3 color channels (RGB) and a dimension of 256x256 (it shows 255 because the 0th element). Because of the 3 channels, the convolution layer will have 3 has the input channels.\n",
    "\n",
    "After the convolution and activation, the data has a shape of `[23, 16, 253, 253]`, so each image has a res of 254x254 now.\n",
    "\n",
    "The MaxPooling2D will halve the resolution to 127x127.\n",
    "\n",
    "-> data output with shape of `[23, 16, 126, 126]`."
   ]
  },
  {
   "cell_type": "markdown",
   "id": "0aade860-0d3e-431b-9504-87ff375dadb7",
   "metadata": {
    "tags": []
   },
   "source": [
    "##### 1.1.2 Second convolutional block\n",
    "-> input shape `[23, 16, 126, 126]`.\n",
    "\n",
    "It has 16 channels as input since the first convolutional block has an output of 16 channels. It will output 32 channels.\n",
    "\n",
    "After convolution & activation -> data with shape `[23, 32, 124, 124]`. Each img has res of 125x125.\n",
    "\n",
    "For the pooling, halving the shape will result in `[23, 32, 62, 62]`.\n",
    "\n",
    "-> output with shape `[23, 32, 62, 62]`"
   ]
  },
  {
   "cell_type": "markdown",
   "id": "2f9fa14a-772c-487a-a96e-cfd187505973",
   "metadata": {},
   "source": [
    "##### 1.1.3 Third convolutional block\n",
    "-> input shape `[23, 32, 62, 62]`.\n",
    "\n",
    "32 channels as input because seconds convolutional block outputs 32 channles. It will output 16 channels.\n",
    "\n",
    "After convolution & activation -> data with shape of `[23, 32, 60, 60]`.\n",
    "\n",
    "After pooling -> data with shape of `[23, 32, 30, 30]`\n",
    "\n",
    "-> output with shape `[23, 16, 30, 30]`."
   ]
  },
  {
   "cell_type": "markdown",
   "id": "604db720-5659-4d4e-b6b6-57c34c4ed4d3",
   "metadata": {
    "tags": []
   },
   "source": [
    "#### 1.2 The flatten layer\n",
    "-> input with shape [23, 16, 30, 30].\n",
    "\n",
    "When using `nn.Flatten(start_dim=1, end_dim=-1)` we are telling PyTorch to flatten the input array leaving the first dimension (index 0) the same but flattening all dimensions remaining. Remember that in Python the -1 means last element, in this case is the last dimension.\n",
    "\n",
    "So, to know the shape of the output just multiply the length of each flattened dimension. In this case it would be 16 * 30 * 30 = 14400.\n",
    "\n",
    "-> output with shape `[23, 14400]`."
   ]
  },
  {
   "cell_type": "markdown",
   "id": "f7bcf53b-0aa2-4ad6-909d-a4e61bb97408",
   "metadata": {
    "tags": []
   },
   "source": [
    "#### 1.3 The dense blocks"
   ]
  },
  {
   "cell_type": "markdown",
   "id": "60186ac4-3b8b-4992-b7bf-7c67c9f5b831",
   "metadata": {},
   "source": [
    "##### 1.3.1 First dense block\n",
    "-> input shape `[23, 14400]`.\n",
    "\n",
    "The shape of `nn.Linear(23, 16 * 30 * 30)` is explained in the flatten layer.\n",
    "Just apply the ReLU to the output of the linear layer.\n",
    "\n",
    "-> output shape `[23, 10]`"
   ]
  },
  {
   "cell_type": "markdown",
   "id": "5a09adbd-029d-43de-bf21-07210d888b26",
   "metadata": {},
   "source": [
    "##### 1.3.2 Second dense block\n",
    "-> input shape `[23, 10]`\n",
    "\n",
    "Input of 10 because the last dense block outputs 10 values.\n",
    "Just apply the sigmoid activation function to the outputs of the linear layer.\n",
    "\n",
    "-> output shape `[23, 1]`"
   ]
  },
  {
   "cell_type": "markdown",
   "id": "f29bc525-a277-480e-8406-ad2b8106c273",
   "metadata": {
    "tags": []
   },
   "source": [
    "#### 1.4 The output"
   ]
  },
  {
   "cell_type": "markdown",
   "id": "52314575-ceba-4ff0-8020-ca4659ce1e11",
   "metadata": {},
   "source": [
    "Since the output has an extra dimension with a length of 1, just squeeze the tensor to remove this dimension.\n",
    "\n",
    "This way, the output is just a 1D tensor that has the predicted class for each entry in the batch."
   ]
  },
  {
   "cell_type": "code",
   "execution_count": 5,
   "id": "0d916b8d-497f-4b41-b3cb-a8b69f64c684",
   "metadata": {
    "tags": []
   },
   "outputs": [],
   "source": [
    "class Model(nn.Module):\n",
    "    \n",
    "    def __init__(self):\n",
    "        super().__init__()\n",
    "        \n",
    "        self.conv1_block = nn.Sequential(\n",
    "            nn.Conv2d(3, 16, kernel_size=(3, 3)),\n",
    "            nn.ReLU(),\n",
    "            nn.MaxPool2d(2)\n",
    "        )\n",
    "        \n",
    "        self.conv2_block = nn.Sequential(\n",
    "            nn.Conv2d(16, 32, kernel_size=(3, 3)),\n",
    "            nn.ReLU(),\n",
    "            nn.MaxPool2d(2)\n",
    "        )\n",
    "        \n",
    "        self.conv3_block = nn.Sequential(\n",
    "            nn.Conv2d(32, 16, kernel_size=(3, 3)),\n",
    "            nn.ReLU(),\n",
    "            nn.MaxPool2d(2)\n",
    "        )\n",
    "        \n",
    "        self.flatten = nn.Flatten(start_dim=1, end_dim=-1)\n",
    "        \n",
    "        self.dense_block = nn.Sequential(\n",
    "            nn.Linear(16 * 30 * 30, 10),\n",
    "            nn.ReLU()\n",
    "        )\n",
    "        \n",
    "        self.output = nn.Sequential(\n",
    "            nn.Linear(10, 1),\n",
    "            nn.Sigmoid()\n",
    "        )\n",
    "        \n",
    "    def forward(self, x : torch.Tensor):\n",
    "        x = self.conv1_block(x)\n",
    "        x = self.conv2_block(x)\n",
    "        x = self.conv3_block(x)\n",
    "        x = self.flatten(x)\n",
    "        x = self.dense_block(x)\n",
    "        return self.output(x).squeeze()\n",
    "        "
   ]
  },
  {
   "cell_type": "markdown",
   "id": "875d3337-908b-4410-a8df-c101b01d536a",
   "metadata": {},
   "source": [
    "Instanciate the model"
   ]
  },
  {
   "cell_type": "code",
   "execution_count": 6,
   "id": "8726b8a6-84c0-4607-a02a-1ce27fb07ae3",
   "metadata": {
    "tags": []
   },
   "outputs": [],
   "source": [
    "model = Model()"
   ]
  },
  {
   "cell_type": "code",
   "execution_count": 127,
   "id": "b8665e20-f613-4c9c-8b88-4b98104d26db",
   "metadata": {
    "collapsed": true,
    "jupyter": {
     "outputs_hidden": true
    },
    "tags": []
   },
   "outputs": [
    {
     "name": "stdout",
     "output_type": "stream",
     "text": [
      "Model(\n",
      "  (conv1_block): Sequential(\n",
      "    (0): Conv2d(3, 16, kernel_size=(3, 3), stride=(1, 1))\n",
      "    (1): ReLU()\n",
      "    (2): MaxPool2d(kernel_size=2, stride=2, padding=0, dilation=1, ceil_mode=False)\n",
      "  )\n",
      "  (conv2_block): Sequential(\n",
      "    (0): Conv2d(16, 32, kernel_size=(3, 3), stride=(1, 1))\n",
      "    (1): ReLU()\n",
      "    (2): MaxPool2d(kernel_size=2, stride=2, padding=0, dilation=1, ceil_mode=False)\n",
      "  )\n",
      "  (conv3_block): Sequential(\n",
      "    (0): Conv2d(32, 16, kernel_size=(3, 3), stride=(1, 1))\n",
      "    (1): ReLU()\n",
      "    (2): MaxPool2d(kernel_size=2, stride=2, padding=0, dilation=1, ceil_mode=False)\n",
      "  )\n",
      "  (flatten): Flatten(start_dim=1, end_dim=-1)\n",
      "  (dense_block): Sequential(\n",
      "    (0): Linear(in_features=14400, out_features=10, bias=True)\n",
      "    (1): ReLU()\n",
      "  )\n",
      "  (output): Sequential(\n",
      "    (0): Linear(in_features=10, out_features=1, bias=True)\n",
      "    (1): Sigmoid()\n",
      "  )\n",
      ")\n"
     ]
    }
   ],
   "source": [
    "print(model)   # Useful way to see the architecture"
   ]
  },
  {
   "cell_type": "markdown",
   "id": "aaf7809d-e81c-4386-8587-aabdbf9c1c93",
   "metadata": {
    "tags": []
   },
   "source": [
    "### 2. Tranining"
   ]
  },
  {
   "cell_type": "markdown",
   "id": "97f8ca1d-492f-4ac1-a818-86397b11c268",
   "metadata": {},
   "source": [
    "To train the model we need an optimizer and a loss function.\n",
    "\n",
    "In this case the ADAM optimizer will be used with the Binary Cross Entropy loss function (the log one)."
   ]
  },
  {
   "cell_type": "code",
   "execution_count": 129,
   "id": "bff47062-dfb0-4e4b-bfd6-e9b00138043b",
   "metadata": {
    "tags": []
   },
   "outputs": [],
   "source": [
    "optimizer = torch.optim.Adam(model.parameters())\n",
    "loss_fn = nn.BCELoss()"
   ]
  },
  {
   "cell_type": "markdown",
   "id": "3919ba43-3e97-40a6-a505-12220070accf",
   "metadata": {},
   "source": [
    "Standard PyTorch training loop.\n",
    "\n",
    "* Set the model's mode to training.\n",
    "* Creates some variables to track useful values.\n",
    "* Train the model for `epochs` epochs.\n",
    "* Unwrap the `DataLoader` into the data batch and the y batch.\n",
    "* Make the predictions and get the loss for each prediction.\n",
    "* Perfom backpropagation.\n",
    "* Step the optimizer.\n",
    "\n",
    "Then test the model with the cross validation set.\n",
    "\n",
    "* Unwrap the `DataLoader` into the data batch and the y batch.\n",
    "* Make the predictions.\n",
    "* Evaluate the predictions with the loss function.\n",
    "\n",
    "After all that, just append the desired values to each list for later use."
   ]
  },
  {
   "cell_type": "code",
   "execution_count": 147,
   "id": "366e5d99-8fca-41d4-becc-19aba0379104",
   "metadata": {
    "tags": []
   },
   "outputs": [],
   "source": [
    "def train_nn(epochs, \n",
    "             net : torch.nn.Module, \n",
    "             train_set : torch.utils.data.dataset.Subset,\n",
    "             val_set : torch.utils.data.dataset.Subset) -> (torch.nn.Module, list, list, list):\n",
    "    \n",
    "    net.train()                                              # Set the NN to training mode.\n",
    "    \n",
    "    epoch_count, train_loss_vals, val_loss_vals = [], [], [] # List that will be used to check model performance\n",
    "    \n",
    "    for epoch in range(1, epochs+1):\n",
    "        for x_batch, y_batch in train_set.dataset:           # Joint the corresponding batches and unwrap them\n",
    "            y_batch = y_batch.type(torch.float32)\n",
    "            y_pred = net(x_batch)                            # Make predictions for the current batch\n",
    "            loss = loss_fn(y_pred, y_batch)                  # Compute the loss of the predictions\n",
    "            optimizer.zero_grad()                            # Reset the gradients\n",
    "            loss.backward()                                  # Perform the backpropagation\n",
    "            optimizer.step()                                 # Optimize the model\n",
    "            \n",
    "        for data, labels in val_set.dataset:\n",
    "            labels = labels.type(torch.float32)\n",
    "            preds = net(data)\n",
    "            val_loss = loss_fn(preds, labels)\n",
    "    \n",
    "        # if epoch % 10 == 0:\n",
    "        epoch_count.append(epoch)                            \n",
    "        train_loss_vals.append(loss)\n",
    "        val_loss_vals.append(val_loss)\n",
    "        print(f\"Epoch {epoch}: Train loss of {loss}; Validation loss of {val_loss}\")\n",
    "        # print(net.state_dict())                            # Bad idea, the state_dict is huge\n",
    "            \n",
    "    return net, epoch_count, train_loss_vals, val_loss_vals"
   ]
  },
  {
   "cell_type": "markdown",
   "id": "6e26b945-716f-41b7-b3dc-338ccba06fb3",
   "metadata": {},
   "source": [
    "Now just train the model."
   ]
  },
  {
   "cell_type": "code",
   "execution_count": 131,
   "id": "6096552a-0708-483c-baf9-f63f2d07bd89",
   "metadata": {
    "tags": []
   },
   "outputs": [
    {
     "name": "stdout",
     "output_type": "stream",
     "text": [
      "Epoch 1: Train loss of 0.7435684204101562; Validation loss of 0.6014048457145691\n",
      "Epoch 2: Train loss of 0.36416730284690857; Validation loss of 0.43258655071258545\n",
      "Epoch 3: Train loss of 0.32709598541259766; Validation loss of 0.3609268367290497\n",
      "Epoch 4: Train loss of 0.2838458716869354; Validation loss of 0.33327826857566833\n",
      "Epoch 5: Train loss of 0.19682788848876953; Validation loss of 0.2861165404319763\n",
      "Epoch 6: Train loss of 0.2786969542503357; Validation loss of 0.20031771063804626\n",
      "Epoch 7: Train loss of 0.3550480604171753; Validation loss of 0.052339937537908554\n",
      "Epoch 8: Train loss of 0.19568966329097748; Validation loss of 0.05785973742604256\n",
      "Epoch 9: Train loss of 0.11430514603853226; Validation loss of 0.014042006805539131\n",
      "Epoch 10: Train loss of 0.04119100794196129; Validation loss of 0.02495165541768074\n",
      "Epoch 11: Train loss of 0.10354062914848328; Validation loss of 0.12072647362947464\n",
      "Epoch 12: Train loss of 0.026145536452531815; Validation loss of 0.015372713096439838\n",
      "Epoch 13: Train loss of 0.004928214475512505; Validation loss of 0.004685512278228998\n",
      "Epoch 14: Train loss of 0.0016525672981515527; Validation loss of 0.019057149067521095\n",
      "Epoch 15: Train loss of 0.013137922622263432; Validation loss of 0.010120892897248268\n",
      "Epoch 16: Train loss of 0.005043902900069952; Validation loss of 0.0019611597526818514\n",
      "Epoch 17: Train loss of 0.0013123583048582077; Validation loss of 0.0014261211035773158\n",
      "Epoch 18: Train loss of 0.0028797294944524765; Validation loss of 0.0028977831825613976\n",
      "Epoch 19: Train loss of 0.000878266931977123; Validation loss of 0.002206838224083185\n",
      "Epoch 20: Train loss of 0.0005362380761653185; Validation loss of 0.0017866024281829596\n",
      "Epoch 21: Train loss of 0.000655464653391391; Validation loss of 0.0012371062766760588\n",
      "Epoch 22: Train loss of 0.0003935346903745085; Validation loss of 0.0015869357157498598\n",
      "Epoch 23: Train loss of 0.00071140838554129; Validation loss of 0.0012401202693581581\n",
      "Epoch 24: Train loss of 0.0024727953132241964; Validation loss of 0.0001659196859691292\n",
      "Epoch 25: Train loss of 0.0016222806880250573; Validation loss of 0.0006752205663360655\n",
      "Epoch 26: Train loss of 0.0007595104980282485; Validation loss of 0.00020144069276284426\n",
      "Epoch 27: Train loss of 9.949921513907611e-05; Validation loss of 0.0012787821469828486\n",
      "Epoch 28: Train loss of 0.0006589970435015857; Validation loss of 0.0004463046498131007\n",
      "Epoch 29: Train loss of 0.0004371645918581635; Validation loss of 0.0008201547316275537\n",
      "Epoch 30: Train loss of 0.0009769863681867719; Validation loss of 0.0004581810790114105\n",
      "Epoch 31: Train loss of 0.0002181882009608671; Validation loss of 0.0003962917544413358\n",
      "Epoch 32: Train loss of 3.392314965822152e-06; Validation loss of 0.0002831625461112708\n",
      "Epoch 33: Train loss of 0.000268578965915367; Validation loss of 0.00018288478895556182\n",
      "Epoch 34: Train loss of 0.00024679937632754445; Validation loss of 0.0004642218700610101\n",
      "Epoch 35: Train loss of 0.0007915947935543954; Validation loss of 9.291213063988835e-05\n",
      "Epoch 36: Train loss of 0.00011839014769066125; Validation loss of 0.00032082683173939586\n",
      "Epoch 37: Train loss of 0.0004933508462272584; Validation loss of 0.0003293811751063913\n",
      "Epoch 38: Train loss of 0.00017558259423822165; Validation loss of 0.00044389680260792375\n",
      "Epoch 39: Train loss of 0.0003930603270418942; Validation loss of 0.00020018946088384837\n",
      "Epoch 40: Train loss of 0.00027532645617611706; Validation loss of 0.0001710316864773631\n"
     ]
    }
   ],
   "source": [
    "trained_model, epoch_l, train_loss_l, val_loss_l = train_nn(40, model, train_set, val_set)"
   ]
  },
  {
   "cell_type": "markdown",
   "id": "143796f6-b461-4b69-a220-d7473cf1c40b",
   "metadata": {
    "tags": []
   },
   "source": [
    "### 3. Plot the model loss funtion"
   ]
  },
  {
   "cell_type": "code",
   "execution_count": 142,
   "id": "8e8f398f-bbf2-4509-ac56-f6e17a0eb239",
   "metadata": {
    "tags": []
   },
   "outputs": [
    {
     "data": {
      "image/png": "[encoded data removed]",
      "text/plain": [
       "<Figure size 640x480 with 2 Axes>"
      ]
     },
     "metadata": {},
     "output_type": "display_data"
    }
   ],
   "source": [
    "ax1 = plt.subplot(2, 2, 1)\n",
    "ax2 = plt.subplot(2, 2, 2)\n",
    "with torch.inference_mode():          # Deactivate gradient tracking\n",
    "    ax1.plot(epoch_l, train_loss_l)      \n",
    "    ax2.plot(epoch_l, val_loss_l)"
   ]
  },
  {
   "cell_type": "markdown",
   "id": "7665861b-8936-4359-9438-78f439985ad6",
   "metadata": {},
   "source": [
    "### 4. Make predictions with the trained model on the test set"
   ]
  },
  {
   "cell_type": "markdown",
   "id": "a90604e3-0a3e-4f9f-abf4-198db9c62d27",
   "metadata": {},
   "source": [
    "Simple testing method, that disables gradient tracking, unwraps the data and labels in test set Subset, makes the predictions and then evaluates the loss of the predictions and the actual labels."
   ]
  },
  {
   "cell_type": "code",
   "execution_count": 152,
   "id": "dd23df48-3d72-4cea-a879-9afc86136cb6",
   "metadata": {
    "tags": []
   },
   "outputs": [],
   "source": [
    "def test_model(model : nn.Module, \n",
    "               test_set : torch.utils.data.dataset.Subset) -> None:\n",
    "    model.eval()\n",
    "    with torch.inference_mode():\n",
    "        for test_data, test_label in test_set.dataset:\n",
    "            test_pred = model(test_data)\n",
    "            test_loss = loss_fn(test_pred, test_label.type(torch.float32))\n",
    "            print(test_loss)\n",
    "    model.train()"
   ]
  },
  {
   "cell_type": "markdown",
   "id": "a83dd05d-9378-4188-991b-b42f83af5bbf",
   "metadata": {},
   "source": [
    "Now test the trained model"
   ]
  },
  {
   "cell_type": "code",
   "execution_count": 159,
   "id": "65e5c59b-c59d-4d51-a692-75cbfad3d6aa",
   "metadata": {
    "tags": []
   },
   "outputs": [
    {
     "name": "stdout",
     "output_type": "stream",
     "text": [
      "tensor(0.0002)\n",
      "tensor(0.0002)\n",
      "tensor(0.0001)\n",
      "tensor(0.0003)\n",
      "tensor(0.0005)\n",
      "tensor(0.0002)\n",
      "tensor(0.0003)\n",
      "tensor(0.0004)\n",
      "tensor(0.0003)\n",
      "tensor(0.0002)\n",
      "tensor(0.0004)\n",
      "tensor(0.0001)\n",
      "tensor(0.0003)\n",
      "tensor(0.0002)\n",
      "tensor(0.0002)\n",
      "tensor(0.0004)\n",
      "tensor(0.0002)\n",
      "tensor(9.5598e-05)\n",
      "tensor(0.0002)\n",
      "tensor(0.0002)\n"
     ]
    }
   ],
   "source": [
    "test_model(trained_model, test_set)"
   ]
  },
  {
   "cell_type": "markdown",
   "id": "482562e0-aae9-42eb-931c-cdef9865bff4",
   "metadata": {
    "tags": []
   },
   "source": [
    "# Saving and loading the model"
   ]
  },
  {
   "cell_type": "markdown",
   "id": "8c73630f-6861-4a4c-a670-4bd3f5b4c7ef",
   "metadata": {},
   "source": [
    "Simple functions that save and load some model"
   ]
  },
  {
   "cell_type": "code",
   "execution_count": 7,
   "id": "c0f5abd9-f34d-4a24-87c2-af0a6016987a",
   "metadata": {
    "tags": []
   },
   "outputs": [],
   "source": [
    "def save_model(model : nn.Module, file_name : str) -> None:\n",
    "    MODEL_DIR = Path('MODELS')\n",
    "    MODEL_NAME = f'{file_name}.pth'\n",
    "    MODEL_PATH = MODEL_DIR / MODEL_NAME\n",
    "    \n",
    "    torch.save(obj=trained_model.state_dict(),\n",
    "               f=MODEL_PATH)"
   ]
  },
  {
   "cell_type": "code",
   "execution_count": 8,
   "id": "79a96aef-2d32-49a5-91a1-5970faa70803",
   "metadata": {
    "tags": []
   },
   "outputs": [],
   "source": [
    "def load_state_d(file_name : str) -> Model:\n",
    "    MODEL_DIR = Path('MODELS')\n",
    "    MODEL_NAME = f'{file_name}.pth'\n",
    "    MODEL_PATH = MODEL_DIR / MODEL_NAME\n",
    "    \n",
    "    state_d = torch.load(MODEL_PATH)\n",
    "    m = Model()\n",
    "    m.load_state_dict(state_d)\n",
    "    return m"
   ]
  },
  {
   "cell_type": "code",
   "execution_count": 155,
   "id": "1a178828-4486-48aa-b334-eb4fe99d8672",
   "metadata": {
    "tags": []
   },
   "outputs": [],
   "source": [
    "save_model(trained_model, 'trained_model_3')"
   ]
  },
  {
   "cell_type": "code",
   "execution_count": 9,
   "id": "dfd20db4-3878-4e1b-b6fd-6f3340f43518",
   "metadata": {
    "tags": []
   },
   "outputs": [],
   "source": [
    "loaded_model = load_state_d('trained_model_3')"
   ]
  },
  {
   "cell_type": "markdown",
   "id": "f2f4ca78-aa7a-42dd-87a9-7e63c9f7efc2",
   "metadata": {},
   "source": [
    "Test the loaded model"
   ]
  },
  {
   "cell_type": "code",
   "execution_count": 158,
   "id": "f216a7c8-6218-42f2-a25a-1a9f362cfac1",
   "metadata": {
    "tags": []
   },
   "outputs": [
    {
     "name": "stdout",
     "output_type": "stream",
     "text": [
      "tensor(0.0002)\n",
      "tensor(0.0002)\n",
      "tensor(0.0002)\n",
      "tensor(6.8811e-05)\n",
      "tensor(0.0007)\n",
      "tensor(0.0003)\n",
      "tensor(0.0001)\n",
      "tensor(0.0005)\n",
      "tensor(0.0002)\n",
      "tensor(0.0001)\n",
      "tensor(0.0002)\n",
      "tensor(0.0001)\n",
      "tensor(0.0002)\n",
      "tensor(0.0003)\n",
      "tensor(0.0001)\n",
      "tensor(0.0003)\n",
      "tensor(0.0006)\n",
      "tensor(8.1278e-05)\n",
      "tensor(0.0001)\n",
      "tensor(0.0004)\n"
     ]
    }
   ],
   "source": [
    "test_model(loaded_model, test_set)"
   ]
  },
  {
   "cell_type": "markdown",
   "id": "9feb6139-a877-488c-9c6b-707e036b608b",
   "metadata": {
    "tags": []
   },
   "source": [
    "# Test the model on real images"
   ]
  },
  {
   "cell_type": "code",
   "execution_count": 15,
   "id": "66f6e126-61f9-4065-a855-d61b360b408d",
   "metadata": {
    "tags": []
   },
   "outputs": [],
   "source": [
    "def process_img(file_name : str):\n",
    "    TEST_IMGS = Path('TEST_IMGS')\n",
    "    img = Image.open(TEST_IMGS / file_name)\n",
    "    img_tensor = transform(img)\n",
    "    return img_tensor[None, :]"
   ]
  },
  {
   "cell_type": "code",
   "execution_count": 16,
   "id": "c09fb1f0-78a3-4be2-ac0a-a427f8c74e16",
   "metadata": {
    "tags": []
   },
   "outputs": [],
   "source": [
    "def test_1_image(file_name : str):\n",
    "    img_tensor = process_img(file_name)\n",
    "    return loaded_model(img_tensor)"
   ]
  },
  {
   "cell_type": "code",
   "execution_count": 21,
   "id": "0f08f678-300e-4f60-8804-88f793a0462b",
   "metadata": {
    "tags": []
   },
   "outputs": [
    {
     "name": "stdout",
     "output_type": "stream",
     "text": [
      "tensor(0.0002, grad_fn=<SqueezeBackward0>)\n"
     ]
    }
   ],
   "source": [
    "pred = test_1_image('nanny_test.jpg')\n",
    "print(pred)"
   ]
  },
  {
   "cell_type": "code",
   "execution_count": 1,
   "id": "074ddc60-afbb-4c56-a040-68950cf7e344",
   "metadata": {
    "tags": []
   },
   "outputs": [],
   "source": [
    "# pred2 = loaded_model(meme_test[:, :3, :, :])   # Dont select alpha form RGBA image"
   ]
  },
  {
   "cell_type": "markdown",
   "id": "3be1b292-4611-4f38-8a1f-3fbd6a565111",
   "metadata": {},
   "source": [
    "# Onnx & Onnx Runtine"
   ]
  },
  {
   "cell_type": "code",
   "execution_count": 13,
   "id": "b797cd81-31e9-4785-842b-f35cd3977959",
   "metadata": {
    "tags": []
   },
   "outputs": [],
   "source": [
    "import onnx\n",
    "import onnxruntime"
   ]
  },
  {
   "cell_type": "code",
   "execution_count": 24,
   "id": "e7d86db2-0f86-4764-ab21-13c97f90e95f",
   "metadata": {
    "tags": []
   },
   "outputs": [],
   "source": [
    "dummy_img = process_img('nanny_test.jpg')"
   ]
  },
  {
   "cell_type": "code",
   "execution_count": 56,
   "id": "1d6700ff-1093-4cc0-bd89-a7c4b2fd811b",
   "metadata": {
    "tags": []
   },
   "outputs": [],
   "source": [
    "input_names = ['input', 'a', 'b', 'c', 'd', 'e', 'f', 'g', 'h', 'i', 'j']\n",
    "output_names = ['output']"
   ]
  },
  {
   "cell_type": "code",
   "execution_count": 57,
   "id": "d0af21a4-af14-4990-8e6e-089d678c6d7a",
   "metadata": {
    "tags": []
   },
   "outputs": [],
   "source": [
    "loaded_model.eval()\n",
    "torch.onnx.export(loaded_model, \n",
    "                  dummy_img, \n",
    "                  \"trained_model_3.onnx\",\n",
    "                  export_params=True,\n",
    "                  do_constant_folding=True,\n",
    "                  verbose=False,\n",
    "                  dynamic_axes={'input' : {0 : 'batch_size'},    # variable length axes\n",
    "                                'output' : {0 : 'batch_size'}},\n",
    "                  input_names=input_names,\n",
    "                  output_names=output_names)\n",
    "                  # input_names=input_names, \n",
    "                  # output_names=output_names)"
   ]
  },
  {
   "cell_type": "code",
   "execution_count": 58,
   "id": "0259a1d1-dcbc-4eed-a194-4b1408484d3c",
   "metadata": {
    "tags": []
   },
   "outputs": [
    {
     "name": "stdout",
     "output_type": "stream",
     "text": [
      "Model(\n",
      "  (conv1_block): Sequential(\n",
      "    (0): Conv2d(3, 16, kernel_size=(3, 3), stride=(1, 1))\n",
      "    (1): ReLU()\n",
      "    (2): MaxPool2d(kernel_size=2, stride=2, padding=0, dilation=1, ceil_mode=False)\n",
      "  )\n",
      "  (conv2_block): Sequential(\n",
      "    (0): Conv2d(16, 32, kernel_size=(3, 3), stride=(1, 1))\n",
      "    (1): ReLU()\n",
      "    (2): MaxPool2d(kernel_size=2, stride=2, padding=0, dilation=1, ceil_mode=False)\n",
      "  )\n",
      "  (conv3_block): Sequential(\n",
      "    (0): Conv2d(32, 16, kernel_size=(3, 3), stride=(1, 1))\n",
      "    (1): ReLU()\n",
      "    (2): MaxPool2d(kernel_size=2, stride=2, padding=0, dilation=1, ceil_mode=False)\n",
      "  )\n",
      "  (flatten): Flatten(start_dim=1, end_dim=-1)\n",
      "  (dense_block): Sequential(\n",
      "    (0): Linear(in_features=14400, out_features=10, bias=True)\n",
      "    (1): ReLU()\n",
      "  )\n",
      "  (output): Sequential(\n",
      "    (0): Linear(in_features=10, out_features=1, bias=True)\n",
      "    (1): Sigmoid()\n",
      "  )\n",
      ")\n"
     ]
    }
   ],
   "source": [
    "print(loaded_model)"
   ]
  },
  {
   "cell_type": "code",
   "execution_count": 59,
   "id": "36c1f1de-2d23-4715-834c-036ab8ec8cb0",
   "metadata": {
    "tags": []
   },
   "outputs": [],
   "source": [
    "onnx_model = onnx.load(\"trained_model_3.onnx\")"
   ]
  },
  {
   "cell_type": "code",
   "execution_count": 69,
   "id": "3b3cb965-a0f4-443a-b540-59e16618618c",
   "metadata": {
    "tags": []
   },
   "outputs": [],
   "source": [
    "onnx.checker.check_model(onnx_model)"
   ]
  },
  {
   "cell_type": "code",
   "execution_count": 70,
   "id": "7a6cca78-c514-4c8c-838e-82c1dfad2ac5",
   "metadata": {
    "tags": []
   },
   "outputs": [],
   "source": [
    "onx_session = onnxruntime.InferenceSession(\"trained_model_3.onnx\")"
   ]
  },
  {
   "cell_type": "code",
   "execution_count": 73,
   "id": "8c60667b-9e1c-4653-8925-06bd73a3e16e",
   "metadata": {
    "tags": []
   },
   "outputs": [],
   "source": [
    "# onx_session.run()"
   ]
  },
  {
   "cell_type": "code",
   "execution_count": 79,
   "id": "a40dc668-fb9d-47d8-ae55-6c2209c7eb6b",
   "metadata": {
    "tags": []
   },
   "outputs": [],
   "source": [
    "onx_input = {onx_session.get_inputs()[0].name: dummy_img.cpu().numpy()}"
   ]
  },
  {
   "cell_type": "code",
   "execution_count": 80,
   "id": "2078e68b-8daa-442a-9ca6-b46af14200d0",
   "metadata": {
    "tags": []
   },
   "outputs": [],
   "source": [
    "onx_out = onx_session.run(None, onx_input)"
   ]
  },
  {
   "cell_type": "code",
   "execution_count": 81,
   "id": "b8b68fad-cfef-43de-8aa0-fb218bc29e91",
   "metadata": {
    "tags": []
   },
   "outputs": [
    {
     "data": {
      "text/plain": [
       "[array(0.00020978, dtype=float32)]"
      ]
     },
     "execution_count": 81,
     "metadata": {},
     "output_type": "execute_result"
    }
   ],
   "source": [
    "onx_out"
   ]
  },
  {
   "cell_type": "code",
   "execution_count": null,
   "id": "c3861ed8-a25e-41b7-a7ef-a97458e26ef3",
   "metadata": {},
   "outputs": [],
   "source": []
  }
 ],
 "metadata": {
  "kernelspec": {
   "display_name": "Python 3 (ipykernel)",
   "language": "python",
   "name": "python3"
  },
  "language_info": {
   "codemirror_mode": {
    "name": "ipython",
    "version": 3
   },
   "file_extension": ".py",
   "mimetype": "text/x-python",
   "name": "python",
   "nbconvert_exporter": "python",
   "pygments_lexer": "ipython3",
   "version": "3.10.10"
  }
 },
 "nbformat": 4,
 "nbformat_minor": 5
}
