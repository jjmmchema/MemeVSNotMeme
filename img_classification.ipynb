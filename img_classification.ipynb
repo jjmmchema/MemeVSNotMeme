{
 "cells": [
  {
   "cell_type": "code",
   "execution_count": 101,
   "id": "a38eb7ae-3f15-492a-8054-328f803c0a0b",
   "metadata": {
    "tags": []
   },
   "outputs": [],
   "source": [
    "import os\n",
    "import cv2\n",
    "import imghdr\n",
    "import numpy as np\n",
    "from PIL import Image\n",
    "from pathlib import Path\n",
    "from matplotlib import pyplot as plt\n",
    "\n",
    "import torch\n",
    "import torchvision\n",
    "from torch import nn"
   ]
  },
  {
   "cell_type": "code",
   "execution_count": 6,
   "id": "b912fc91-7cac-48d1-8f48-cfd393600708",
   "metadata": {
    "tags": []
   },
   "outputs": [],
   "source": [
    "DATA_DIR = 'data'\n",
    "IMG_EXT = ['png', 'jpg', 'jpeg', 'bmp']"
   ]
  },
  {
   "cell_type": "code",
   "execution_count": 7,
   "id": "450150c2-36cf-4203-92ec-24b873e9cac8",
   "metadata": {
    "tags": []
   },
   "outputs": [],
   "source": [
    "# Data cleanup"
   ]
  },
  {
   "cell_type": "code",
   "execution_count": 9,
   "id": "990ed909-7446-4c54-90e2-aec5cb8ce2ce",
   "metadata": {
    "tags": []
   },
   "outputs": [],
   "source": [
    "for img_class in os.listdir(DATA_DIR):\n",
    "    for image in os.listdir(os.path.join(DATA_DIR, img_class)):\n",
    "        image_path = os.path.join(DATA_DIR, img_class, image)\n",
    "        try:\n",
    "            img = cv2.imread(image_path)\n",
    "            tip = imghdr.what(image_path)\n",
    "            if tip not in IMG_EXT:\n",
    "                os.remove(image_path)\n",
    "        except Exception as e:\n",
    "            print(f'Issue with {image_path}')"
   ]
  },
  {
   "cell_type": "code",
   "execution_count": 10,
   "id": "8c55005c-4499-4775-9d64-1701d7af4e54",
   "metadata": {
    "tags": []
   },
   "outputs": [],
   "source": [
    "# Datasets"
   ]
  },
  {
   "cell_type": "code",
   "execution_count": 11,
   "id": "88b96a7d-0248-43e7-8b3a-3b382a478e9a",
   "metadata": {
    "tags": []
   },
   "outputs": [],
   "source": [
    "transform = torchvision.transforms.Compose([torchvision.transforms.Resize((255, 255)),\n",
    "                                            torchvision.transforms.ToTensor()])"
   ]
  },
  {
   "cell_type": "code",
   "execution_count": 12,
   "id": "b6d31291-7cfa-4757-8768-7aeb9b66078d",
   "metadata": {},
   "outputs": [],
   "source": [
    "data = torchvision.datasets.ImageFolder(DATA_DIR, transform=transform)"
   ]
  },
  {
   "cell_type": "code",
   "execution_count": 90,
   "id": "d01ace44-8afd-4aa2-a004-63641ca3016e",
   "metadata": {
    "tags": []
   },
   "outputs": [
    {
     "data": {
      "text/plain": [
       "{'family': 0, 'memes': 1}"
      ]
     },
     "execution_count": 90,
     "metadata": {},
     "output_type": "execute_result"
    }
   ],
   "source": [
    "data.class_to_idx"
   ]
  },
  {
   "cell_type": "code",
   "execution_count": 13,
   "id": "36270a4e-61be-4065-afac-7f394c1eec2f",
   "metadata": {
    "tags": []
   },
   "outputs": [],
   "source": [
    "# Dataloader"
   ]
  },
  {
   "cell_type": "code",
   "execution_count": 14,
   "id": "9d060db7-db47-4287-9cfb-168986b22715",
   "metadata": {
    "tags": []
   },
   "outputs": [],
   "source": [
    "dataloader = torch.utils.data.DataLoader(dataset=data,\n",
    "                                         batch_size=23,\n",
    "                                         shuffle=True)"
   ]
  },
  {
   "cell_type": "code",
   "execution_count": 15,
   "id": "826ee2fe-c583-4d81-bce7-41473f382f97",
   "metadata": {},
   "outputs": [],
   "source": [
    "# x, y = next(iter(dataloader))"
   ]
  },
  {
   "cell_type": "code",
   "execution_count": 16,
   "id": "3541ec9a-7c17-4e3b-b4db-1f40f72fd80d",
   "metadata": {
    "tags": []
   },
   "outputs": [],
   "source": [
    "gen1 = torch.Generator().manual_seed(69)\n",
    "train_set, test_set, val_set = torch.utils.data.random_split(dataloader, [0.7, 0.15, 0.15], generator=gen1)"
   ]
  },
  {
   "cell_type": "code",
   "execution_count": 17,
   "id": "48edcd7f-9a4e-47e9-a927-73cfbb13965c",
   "metadata": {
    "tags": []
   },
   "outputs": [
    {
     "name": "stdout",
     "output_type": "stream",
     "text": [
      "14\n",
      "3\n",
      "3\n"
     ]
    }
   ],
   "source": [
    "print(len(train_set))\n",
    "print(len(test_set))\n",
    "print(len(val_set))"
   ]
  },
  {
   "cell_type": "code",
   "execution_count": 18,
   "id": "d7395555-fd0a-4c03-8dff-3f4ca98b7529",
   "metadata": {},
   "outputs": [],
   "source": [
    "# x, y = next(a)"
   ]
  },
  {
   "cell_type": "code",
   "execution_count": 19,
   "id": "68b64b7f-d1d4-453d-b774-d517eca9874c",
   "metadata": {
    "tags": []
   },
   "outputs": [],
   "source": [
    "# x.shape, y.shape"
   ]
  },
  {
   "cell_type": "code",
   "execution_count": 77,
   "id": "0d916b8d-497f-4b41-b3cb-a8b69f64c684",
   "metadata": {
    "tags": []
   },
   "outputs": [],
   "source": [
    "class Model(nn.Module):\n",
    "    \n",
    "    def __init__(self):\n",
    "        super().__init__()\n",
    "        \n",
    "        self.conv1_block = nn.Sequential(\n",
    "            nn.Conv2d(3, 16, kernel_size=(3, 3)),\n",
    "            nn.ReLU(),\n",
    "            nn.MaxPool2d(2)\n",
    "        )\n",
    "        \n",
    "        self.conv2_block = nn.Sequential(\n",
    "            nn.Conv2d(16, 32, kernel_size=(3, 3)),\n",
    "            nn.ReLU(),\n",
    "            nn.MaxPool2d(2)\n",
    "        )\n",
    "        \n",
    "        self.conv3_block = nn.Sequential(\n",
    "            nn.Conv2d(32, 16, kernel_size=(3, 3)),\n",
    "            nn.ReLU(),\n",
    "            nn.MaxPool2d(2)\n",
    "        )\n",
    "        \n",
    "        self.flatten = nn.Flatten(start_dim=1, end_dim=-1)\n",
    "        \n",
    "        self.dense_block = nn.Sequential(\n",
    "            nn.Linear(16 * 30 * 30, 10),\n",
    "            nn.ReLU()\n",
    "        )\n",
    "        \n",
    "        self.output = nn.Sequential(\n",
    "            nn.Linear(10, 1),\n",
    "            nn.Sigmoid()\n",
    "        )\n",
    "        \n",
    "    def forward(self, x : torch.Tensor):\n",
    "        batch_size = x.shape[0]\n",
    "        x = self.conv1_block(x)\n",
    "        x = self.conv2_block(x)\n",
    "        x = self.conv3_block(x)\n",
    "        x = self.flatten(x)\n",
    "        x = self.dense_block(x)\n",
    "        return self.output(x).reshape((batch_size))\n",
    "        \n",
    "        "
   ]
  },
  {
   "cell_type": "code",
   "execution_count": 21,
   "id": "8726b8a6-84c0-4607-a02a-1ce27fb07ae3",
   "metadata": {
    "tags": []
   },
   "outputs": [],
   "source": [
    "model = Model()"
   ]
  },
  {
   "cell_type": "code",
   "execution_count": 22,
   "id": "e746f6d8-6957-4309-a3ff-ce0e2920579a",
   "metadata": {
    "tags": []
   },
   "outputs": [],
   "source": [
    " # Optimizer and loss\n",
    "optimizer = torch.optim.Adam(model.parameters())\n",
    "loss_fn = nn.BCELoss()"
   ]
  },
  {
   "cell_type": "code",
   "execution_count": 23,
   "id": "b8665e20-f613-4c9c-8b88-4b98104d26db",
   "metadata": {
    "tags": []
   },
   "outputs": [
    {
     "name": "stdout",
     "output_type": "stream",
     "text": [
      "Model(\n",
      "  (conv1_block): Sequential(\n",
      "    (0): Conv2d(3, 16, kernel_size=(3, 3), stride=(1, 1))\n",
      "    (1): ReLU()\n",
      "    (2): MaxPool2d(kernel_size=2, stride=2, padding=0, dilation=1, ceil_mode=False)\n",
      "  )\n",
      "  (conv2_block): Sequential(\n",
      "    (0): Conv2d(16, 32, kernel_size=(3, 3), stride=(1, 1))\n",
      "    (1): ReLU()\n",
      "    (2): MaxPool2d(kernel_size=2, stride=2, padding=0, dilation=1, ceil_mode=False)\n",
      "  )\n",
      "  (conv3_block): Sequential(\n",
      "    (0): Conv2d(32, 16, kernel_size=(3, 3), stride=(1, 1))\n",
      "    (1): ReLU()\n",
      "    (2): MaxPool2d(kernel_size=2, stride=2, padding=0, dilation=1, ceil_mode=False)\n",
      "  )\n",
      "  (flatten): Flatten(start_dim=1, end_dim=-1)\n",
      "  (dense_block): Sequential(\n",
      "    (0): Linear(in_features=14400, out_features=10, bias=True)\n",
      "    (1): ReLU()\n",
      "  )\n",
      "  (output): Sequential(\n",
      "    (0): Linear(in_features=10, out_features=1, bias=True)\n",
      "    (1): Sigmoid()\n",
      "  )\n",
      ")\n"
     ]
    }
   ],
   "source": [
    "print(model)"
   ]
  },
  {
   "cell_type": "code",
   "execution_count": 24,
   "id": "988be0f1-359e-4e40-ae48-99d54ab3a3e1",
   "metadata": {
    "tags": []
   },
   "outputs": [],
   "source": [
    "# Train"
   ]
  },
  {
   "cell_type": "code",
   "execution_count": 27,
   "id": "366e5d99-8fca-41d4-becc-19aba0379104",
   "metadata": {
    "tags": []
   },
   "outputs": [],
   "source": [
    "def train_nn(epochs, net : torch.nn.Module, \n",
    "             train_set : torch.utils.data.DataLoader,\n",
    "             val_set : torch.utils.data.DataLoader) -> (torch.nn.Module, list, list):\n",
    "    \n",
    "    net.train()                                              # Set the NN to training mode.\n",
    "    \n",
    "    epoch_count, train_loss_vals, val_loss_vals = [], [], [] # List that will be used to check model performance\n",
    "    \n",
    "    for epoch in range(1, epochs+1):\n",
    "        for x_batch, y_batch in train_set.dataset:           # Joint the corresponding batches and unwrap them\n",
    "            y_batch = y_batch.type(torch.float32)\n",
    "            y_pred = net(x_batch)                            # Make predictions for the current batch\n",
    "            loss = loss_fn(y_pred, y_batch)                  # Compute the loss of the predictions\n",
    "            optimizer.zero_grad()                            # Reset the gradients\n",
    "            loss.backward()                                  # Perform the backpropagation\n",
    "            optimizer.step()                                 # Optimize the model\n",
    "            \n",
    "        for data, labels in val_set.dataset:\n",
    "            labels = labels.type(torch.float32)\n",
    "            preds = net(data)\n",
    "            val_loss = loss_fn(preds, labels)\n",
    "    \n",
    "        # if epoch % 10 == 0:\n",
    "        epoch_count.append(epoch)                            \n",
    "        train_loss_vals.append(loss)\n",
    "        val_loss_vals.append(val_loss)\n",
    "        print(f\"Epoch {epoch}: Train loss of {loss}; Validation loss of {val_loss}\")\n",
    "        # print(net.state_dict())                            # Bad idea, the state_dict is huge\n",
    "            \n",
    "    return net, epoch_count, train_loss_vals, val_loss_vals"
   ]
  },
  {
   "cell_type": "code",
   "execution_count": 28,
   "id": "6096552a-0708-483c-baf9-f63f2d07bd89",
   "metadata": {
    "tags": []
   },
   "outputs": [],
   "source": [
    "trained_model, epoch_l, train_loss_l, val_loss_l = train_nn(40, model, train_set, val_set)"
   ]
  },
  {
   "cell_type": "code",
   "execution_count": 29,
   "id": "19b95d43-db1c-48ff-b1f4-1297edc426f3",
   "metadata": {
    "tags": []
   },
   "outputs": [],
   "source": [
    "# Save"
   ]
  },
  {
   "cell_type": "code",
   "execution_count": 30,
   "id": "c0f5abd9-f34d-4a24-87c2-af0a6016987a",
   "metadata": {
    "tags": []
   },
   "outputs": [],
   "source": [
    "def save_model(model : nn.Module, file_name : str) -> None:\n",
    "    MODEL_DIR = Path('MODELS')\n",
    "    MODEL_NAME = f'{file_name}.pth'\n",
    "    MODEL_PATH = MODEL_DIR / MODEL_NAME\n",
    "    \n",
    "    torch.save(obj=trained_model.state_dict(),\n",
    "               f=MODEL_PATH)"
   ]
  },
  {
   "cell_type": "code",
   "execution_count": null,
   "id": "52d87557-e5a4-4405-bb97-a4bedabd3e95",
   "metadata": {
    "tags": []
   },
   "outputs": [],
   "source": [
    "save_model(trained_model, 'trained_model_2')"
   ]
  },
  {
   "cell_type": "code",
   "execution_count": null,
   "id": "47f0a3b9-e005-4433-8b12-9e9f7371d38a",
   "metadata": {},
   "outputs": [],
   "source": []
  },
  {
   "cell_type": "code",
   "execution_count": 341,
   "id": "3d927f6f-417f-460a-a570-a4de9b64c85d",
   "metadata": {
    "tags": []
   },
   "outputs": [],
   "source": [
    "# Plot the losses"
   ]
  },
  {
   "cell_type": "code",
   "execution_count": 355,
   "id": "8e8f398f-bbf2-4509-ac56-f6e17a0eb239",
   "metadata": {
    "tags": []
   },
   "outputs": [
    {
     "data": {
      "image/png": "[encoded data removed]",
      "text/plain": [
       "<Figure size 640x480 with 2 Axes>"
      ]
     },
     "metadata": {},
     "output_type": "display_data"
    }
   ],
   "source": [
    "ax1 = plt.subplot(2, 2, 1)\n",
    "ax2 = plt.subplot(2, 2, 2)\n",
    "with torch.inference_mode():\n",
    "    ax1.plot(epoch_l, train_loss_l)\n",
    "    # ax2.plot(epoch_l, val_loss_l)   # Empty: forgot to add the append inside the train loop"
   ]
  },
  {
   "cell_type": "code",
   "execution_count": 46,
   "id": "dd23df48-3d72-4cea-a879-9afc86136cb6",
   "metadata": {
    "tags": []
   },
   "outputs": [],
   "source": [
    "def test_model(model : nn.Module):\n",
    "    model.eval()\n",
    "    with torch.inference_mode():\n",
    "        for test_data, test_label in test_set.dataset:\n",
    "            test_pred = model(test_data)\n",
    "            test_loss = loss_fn(test_pred, test_label.type(torch.float32))\n",
    "            print(test_loss)\n",
    "    model.train()"
   ]
  },
  {
   "cell_type": "code",
   "execution_count": 31,
   "id": "7a9c0859-75f4-4ee3-9724-b933dd257b90",
   "metadata": {},
   "outputs": [],
   "source": [
    "# Load some model"
   ]
  },
  {
   "cell_type": "code",
   "execution_count": 79,
   "id": "79a96aef-2d32-49a5-91a1-5970faa70803",
   "metadata": {
    "tags": []
   },
   "outputs": [],
   "source": [
    "def load_state_d(file_name : str) -> Model:\n",
    "    MODEL_DIR = Path('MODELS')\n",
    "    MODEL_NAME = f'{file_name}.pth'\n",
    "    MODEL_PATH = MODEL_DIR / MODEL_NAME\n",
    "    \n",
    "    state_d = torch.load(MODEL_PATH)\n",
    "    m = Model()\n",
    "    m.load_state_dict(state_d)\n",
    "    return m"
   ]
  },
  {
   "cell_type": "code",
   "execution_count": 80,
   "id": "dfd20db4-3878-4e1b-b6fd-6f3340f43518",
   "metadata": {
    "tags": []
   },
   "outputs": [],
   "source": [
    "loaded_model = load_state_d('trained_model_2')"
   ]
  },
  {
   "cell_type": "code",
   "execution_count": 81,
   "id": "ec2e3159-85d2-41ad-a50d-4fa3189e59ab",
   "metadata": {
    "tags": []
   },
   "outputs": [],
   "source": [
    "# loaded_model.state_dict()"
   ]
  },
  {
   "cell_type": "code",
   "execution_count": 82,
   "id": "399e6ea1-0da9-413a-9250-d5435010d542",
   "metadata": {
    "tags": []
   },
   "outputs": [
    {
     "name": "stdout",
     "output_type": "stream",
     "text": [
      "tensor(0.0001)\n",
      "tensor(9.4315e-05)\n",
      "tensor(5.8615e-05)\n",
      "tensor(5.1841e-05)\n",
      "tensor(0.0001)\n",
      "tensor(5.9789e-05)\n",
      "tensor(6.2462e-05)\n",
      "tensor(8.5722e-05)\n",
      "tensor(2.2999e-05)\n",
      "tensor(5.0157e-05)\n",
      "tensor(3.0289e-05)\n",
      "tensor(4.7441e-05)\n",
      "tensor(3.2242e-05)\n",
      "tensor(0.0001)\n",
      "tensor(3.2469e-05)\n",
      "tensor(0.0001)\n",
      "tensor(0.0001)\n",
      "tensor(0.0001)\n",
      "tensor(0.0002)\n",
      "tensor(0.0002)\n"
     ]
    }
   ],
   "source": [
    "test_model(loaded_model)"
   ]
  },
  {
   "cell_type": "code",
   "execution_count": 83,
   "id": "a7bda380-7a9e-47f5-a6f0-9dc32ddc6f73",
   "metadata": {
    "tags": []
   },
   "outputs": [],
   "source": [
    "# Test on a real image"
   ]
  },
  {
   "cell_type": "code",
   "execution_count": 84,
   "id": "0cdfce28-3176-4a30-ba45-97b5757ca24d",
   "metadata": {
    "tags": []
   },
   "outputs": [],
   "source": [
    "TEST_IMGS = Path('TEST_IMGS')"
   ]
  },
  {
   "cell_type": "code",
   "execution_count": 85,
   "id": "15c16315-5674-4880-bf6a-f23e79b796d7",
   "metadata": {
    "tags": []
   },
   "outputs": [],
   "source": [
    "img = Image.open(TEST_IMGS / 'nanny_test.jpg')"
   ]
  },
  {
   "cell_type": "code",
   "execution_count": 86,
   "id": "52439059-32bb-4519-ac23-253a18a78955",
   "metadata": {
    "tags": []
   },
   "outputs": [],
   "source": [
    "nanny_test = transform(img)\n",
    "nanny_test = nanny_test[None, :]"
   ]
  },
  {
   "cell_type": "code",
   "execution_count": 87,
   "id": "07c41a4d-ca69-4df2-a256-02978ee076f1",
   "metadata": {
    "tags": []
   },
   "outputs": [],
   "source": [
    "pred = loaded_model(nanny_test)"
   ]
  },
  {
   "cell_type": "code",
   "execution_count": 88,
   "id": "0f08f678-300e-4f60-8804-88f793a0462b",
   "metadata": {
    "tags": []
   },
   "outputs": [
    {
     "data": {
      "text/plain": [
       "tensor([0.0006], grad_fn=<ReshapeAliasBackward0>)"
      ]
     },
     "execution_count": 88,
     "metadata": {},
     "output_type": "execute_result"
    }
   ],
   "source": [
    "pred"
   ]
  },
  {
   "cell_type": "code",
   "execution_count": 91,
   "id": "983cd064-1089-467f-b2c6-6216bc207a64",
   "metadata": {
    "tags": []
   },
   "outputs": [],
   "source": [
    "# On a meme"
   ]
  },
  {
   "cell_type": "code",
   "execution_count": 93,
   "id": "b674f2e0-285b-4696-899f-2189fafc8263",
   "metadata": {
    "tags": []
   },
   "outputs": [],
   "source": [
    "img_meme = Image.open(TEST_IMGS / 'meme_1.png')"
   ]
  },
  {
   "cell_type": "code",
   "execution_count": 97,
   "id": "e42f73bd-047d-4b42-9462-a02e91ad081d",
   "metadata": {
    "tags": []
   },
   "outputs": [],
   "source": [
    "meme_test = transform(img_meme)\n",
    "meme_test = meme_test[None, :]"
   ]
  },
  {
   "cell_type": "code",
   "execution_count": 99,
   "id": "074ddc60-afbb-4c56-a040-68950cf7e344",
   "metadata": {
    "tags": []
   },
   "outputs": [],
   "source": [
    "pred2 = loaded_model(meme_test[:, :3, :, :])"
   ]
  },
  {
   "cell_type": "code",
   "execution_count": 100,
   "id": "61e75ac9-37eb-454a-8a6a-75302dbdb9c8",
   "metadata": {
    "tags": []
   },
   "outputs": [
    {
     "data": {
      "text/plain": [
       "tensor([1.], grad_fn=<ReshapeAliasBackward0>)"
      ]
     },
     "execution_count": 100,
     "metadata": {},
     "output_type": "execute_result"
    }
   ],
   "source": [
    "pred2"
   ]
  },
  {
   "cell_type": "code",
   "execution_count": null,
   "id": "6dbef5b8-fdc3-473f-9b48-04090de6847c",
   "metadata": {},
   "outputs": [],
   "source": []
  }
 ],
 "metadata": {
  "kernelspec": {
   "display_name": "Python 3 (ipykernel)",
   "language": "python",
   "name": "python3"
  },
  "language_info": {
   "codemirror_mode": {
    "name": "ipython",
    "version": 3
   },
   "file_extension": ".py",
   "mimetype": "text/x-python",
   "name": "python",
   "nbconvert_exporter": "python",
   "pygments_lexer": "ipython3",
   "version": "3.10.10"
  }
 },
 "nbformat": 4,
 "nbformat_minor": 5
}
